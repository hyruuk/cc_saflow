{
 "cells": [
  {
   "cell_type": "code",
   "execution_count": 5,
   "metadata": {},
   "outputs": [],
   "source": [
    "from saflow.features.utils import create_fnames, segment_sourcelevel\n",
    "import mne_bids\n",
    "import mne\n",
    "import meegnet"
   ]
  },
  {
   "cell_type": "code",
   "execution_count": 6,
   "metadata": {},
   "outputs": [],
   "source": [
    "sub = '08'\n",
    "run = '02'\n",
    "\n",
    "filepaths = create_fnames(sub, run)\n",
    "\n",
    "raw = mne_bids.read_raw_bids(filepaths['preproc'])\n",
    "data = raw.get_data()\n",
    "sfreq = raw.info['sfreq']\n",
    "meg_picks = mne.pick_types(raw.info, meg=True, ref_meg=False, eeg=False, eog=False)\n"
   ]
  },
  {
   "cell_type": "code",
   "execution_count": 7,
   "metadata": {},
   "outputs": [
    {
     "name": "stdout",
     "output_type": "stream",
     "text": [
      "(562, 270, 1022)\n"
     ]
    }
   ],
   "source": [
    "segmented_array, events_idx, events_dicts = segment_sourcelevel(data, filepaths, sfreq=sfreq, n_events_window=1)\n",
    "segmented_array = segmented_array[:, meg_picks, :]\n",
    "print(segmented_array.shape)"
   ]
  },
  {
   "cell_type": "code",
   "execution_count": null,
   "metadata": {},
   "outputs": [],
   "source": []
  },
  {
   "cell_type": "code",
   "execution_count": 47,
   "metadata": {},
   "outputs": [],
   "source": [
    "import os\n",
    "import os.path as op \n",
    "import numpy as np\n",
    "\n",
    "dataset_dir = '../tmp/MEEGNet_test/'\n",
    "os.makedirs(dataset_dir, exist_ok=True)\n",
    "\n",
    "# save events\n",
    "import pandas as pd\n",
    "\n",
    "subjects = ['sub-08']\n",
    "INOUT_labels = [[x['INOUT'] for x in events_dicts]]\n",
    "task_labels = [[x['task'] for x in events_dicts]]\n",
    "RT_labels = [[x['RT'] for x in events_dicts]]\n",
    "VTC_labels = [[x['VTC'] for x in events_dicts]]\n",
    "df = pd.DataFrame({'sub': subjects, 'INOUT': INOUT_labels, 'task':task_labels, 'RT':RT_labels, 'VTC':VTC_labels})\n",
    "df.to_csv(op.join(dataset_dir, 'participants_info.csv'), index=False)\n",
    "\n",
    "\n",
    "# save npy file\n",
    "np.save(op.join(dataset_dir, 'downsampled_1200', 'sub-08_run-02.npy'), segmented_array)\n",
    "\n",
    "\n"
   ]
  },
  {
   "cell_type": "code",
   "execution_count": 48,
   "metadata": {},
   "outputs": [
    {
     "data": {
      "text/html": [
       "<div>\n",
       "<style scoped>\n",
       "    .dataframe tbody tr th:only-of-type {\n",
       "        vertical-align: middle;\n",
       "    }\n",
       "\n",
       "    .dataframe tbody tr th {\n",
       "        vertical-align: top;\n",
       "    }\n",
       "\n",
       "    .dataframe thead th {\n",
       "        text-align: right;\n",
       "    }\n",
       "</style>\n",
       "<table border=\"1\" class=\"dataframe\">\n",
       "  <thead>\n",
       "    <tr style=\"text-align: right;\">\n",
       "      <th></th>\n",
       "      <th>sub</th>\n",
       "      <th>INOUT</th>\n",
       "      <th>task</th>\n",
       "      <th>RT</th>\n",
       "      <th>VTC</th>\n",
       "    </tr>\n",
       "  </thead>\n",
       "  <tbody>\n",
       "    <tr>\n",
       "      <th>0</th>\n",
       "      <td>sub-08</td>\n",
       "      <td>[OUT, OUT, OUT, OUT, OUT, OUT, OUT, OUT, IN, I...</td>\n",
       "      <td>[correct_commission, correct_commission, corre...</td>\n",
       "      <td>[1.1739262219698503, 0.960592399226698, 0.9073...</td>\n",
       "      <td>[4.289169626693622, 2.513355054509037, 2.06992...</td>\n",
       "    </tr>\n",
       "  </tbody>\n",
       "</table>\n",
       "</div>"
      ],
      "text/plain": [
       "      sub                                              INOUT  \\\n",
       "0  sub-08  [OUT, OUT, OUT, OUT, OUT, OUT, OUT, OUT, IN, I...   \n",
       "\n",
       "                                                task  \\\n",
       "0  [correct_commission, correct_commission, corre...   \n",
       "\n",
       "                                                  RT  \\\n",
       "0  [1.1739262219698503, 0.960592399226698, 0.9073...   \n",
       "\n",
       "                                                 VTC  \n",
       "0  [4.289169626693622, 2.513355054509037, 2.06992...  "
      ]
     },
     "execution_count": 48,
     "metadata": {},
     "output_type": "execute_result"
    }
   ],
   "source": [
    "df"
   ]
  },
  {
   "cell_type": "code",
   "execution_count": 49,
   "metadata": {},
   "outputs": [
    {
     "data": {
      "text/plain": [
       "'../tmp/MEEGNet_test/'"
      ]
     },
     "execution_count": 49,
     "metadata": {},
     "output_type": "execute_result"
    }
   ],
   "source": [
    "dataset_dir"
   ]
  },
  {
   "cell_type": "code",
   "execution_count": 1,
   "metadata": {},
   "outputs": [
    {
     "name": "stderr",
     "output_type": "stream",
     "text": [
      "03/18/2025 02:37:35 PM Logging subjects and labels from /home/hyruuk/GitHub/cocolab/cc_saflow/tmp/MEEGNet_test/...\n"
     ]
    }
   ],
   "source": [
    "from meegnet.dataloaders import EpochedDataset\n",
    "# use Dataset class for data that has already been cut into trials\n",
    "# else, use RestDataset with additional parameters of window and overlap to create trials.\n",
    "\n",
    "import logging\n",
    "logging.basicConfig(\n",
    "    level=logging.INFO,\n",
    "    format=\"%(asctime)s %(message)s\",\n",
    "    datefmt=\"%m/%d/%Y %I:%M:%S %p\",\n",
    ")\n",
    "\n",
    "dataset = EpochedDataset(\n",
    "    sfreq=1200, # sampling frequency of 200\n",
    "    n_subjects=None, # only load 100 subjects\n",
    "    n_samples=None, # limit the number of samples for each subject to 100\n",
    "    sensortype=None, # only use gradiometers\n",
    "    lso=False, # do not use leave subject oout for data splits\n",
    ")\n",
    "\n",
    "dataset_dir = '/home/hyruuk/GitHub/cocolab/cc_saflow/tmp/MEEGNet_test/'\n",
    "\n",
    "dataset.load(dataset_dir, label_col='INOUT')"
   ]
  },
  {
   "cell_type": "code",
   "execution_count": null,
   "metadata": {},
   "outputs": [],
   "source": []
  },
  {
   "cell_type": "code",
   "execution_count": null,
   "metadata": {},
   "outputs": [],
   "source": []
  },
  {
   "cell_type": "code",
   "execution_count": 2,
   "metadata": {},
   "outputs": [
    {
     "name": "stderr",
     "output_type": "stream",
     "text": [
      "03/18/2025 02:38:22 PM Warning: gpu device requested but unavailable. Setting device to CPU\n",
      "03/18/2025 02:38:22 PM Creating DataLoaders...\n",
      "03/18/2025 02:38:22 PM Starting Training with:\n",
      "03/18/2025 02:38:22 PM Batch size: 128\n",
      "03/18/2025 02:38:22 PM Learning rate: 1e-05\n",
      "03/18/2025 02:38:22 PM Patience: 1\n"
     ]
    },
    {
     "name": "stdout",
     "output_type": "stream",
     "text": [
      "EEGNet(\n",
      "  (feature_extraction): Sequential(\n",
      "    (0): Conv2d(1, 16, kernel_size=(1, 64), stride=(1, 1), padding=(1, 32), bias=False)\n",
      "    (1): BatchNorm2d(16, eps=1e-05, momentum=0.1, affine=True, track_running_stats=True)\n",
      "    (2): DepthwiseConv2d(\n",
      "      (depthwise): Conv2d(16, 32, kernel_size=(270, 1), stride=(1, 1), groups=16, bias=False)\n",
      "    )\n",
      "    (3): BatchNorm2d(32, eps=1e-05, momentum=0.1, affine=True, track_running_stats=True)\n",
      "    (4): ELU(alpha=1.0)\n",
      "    (5): AvgPool2d(kernel_size=(1, 4), stride=(1, 4), padding=0)\n",
      "    (6): Dropout(p=0.5, inplace=False)\n",
      "    (7): SeparableConv2d(\n",
      "      (depthwise): DepthwiseConv2d(\n",
      "        (depthwise): Conv2d(32, 32, kernel_size=(1, 16), stride=(1, 1), padding=(1, 8), groups=32, bias=False)\n",
      "      )\n",
      "      (pointwise): Conv2d(32, 32, kernel_size=(1, 1), stride=(1, 1), padding=(1, 8), bias=False)\n",
      "    )\n",
      "    (8): BatchNorm2d(32, eps=1e-05, momentum=0.1, affine=True, track_running_stats=True)\n",
      "    (9): ELU(alpha=1.0)\n",
      "    (10): AvgPool2d(kernel_size=(1, 8), stride=(1, 8), padding=0)\n",
      "    (11): Dropout(p=0.5, inplace=False)\n",
      "    (12): Flatten()\n",
      "  )\n",
      "  (classif): Sequential(\n",
      "    (0): Linear(in_features=7616, out_features=2, bias=True)\n",
      "  )\n",
      ")\n"
     ]
    },
    {
     "name": "stderr",
     "output_type": "stream",
     "text": [
      "03/18/2025 02:38:33 PM Epoch: 1 // Batch 1/4 // loss = 0.70345\n",
      "03/18/2025 02:38:42 PM Epoch: 1 // Batch 2/4 // loss = 0.73574\n",
      "03/18/2025 02:38:51 PM Epoch: 1 // Batch 3/4 // loss = 0.72209\n",
      "03/18/2025 02:38:57 PM Epoch: 1 // Batch 4/4 // loss = 0.70602\n",
      "03/18/2025 02:39:13 PM Epoch: 1\n",
      "03/18/2025 02:39:13 PM  [LOSS] TRAIN 0.7403 / VALID 0.7271\n",
      "03/18/2025 02:39:13 PM  [ACC] TRAIN 50.22% / VALID 50.00%\n",
      "03/18/2025 02:39:24 PM Epoch: 2 // Batch 1/4 // loss = 0.74430\n",
      "03/18/2025 02:39:36 PM Epoch: 2 // Batch 2/4 // loss = 0.73634\n",
      "03/18/2025 02:39:48 PM Epoch: 2 // Batch 3/4 // loss = 0.76738\n",
      "03/18/2025 02:39:55 PM Epoch: 2 // Batch 4/4 // loss = 0.69858\n",
      "03/18/2025 02:40:12 PM Epoch: 2\n",
      "03/18/2025 02:40:12 PM  [LOSS] TRAIN 0.7299 / VALID 0.7258\n",
      "03/18/2025 02:40:12 PM  [ACC] TRAIN 51.78% / VALID 57.14%\n",
      "03/18/2025 02:40:25 PM Epoch: 3 // Batch 1/4 // loss = 0.72134\n",
      "03/18/2025 02:40:38 PM Epoch: 3 // Batch 2/4 // loss = 0.72425\n",
      "03/18/2025 02:40:50 PM Epoch: 3 // Batch 3/4 // loss = 0.76797\n",
      "03/18/2025 02:40:57 PM Epoch: 3 // Batch 4/4 // loss = 0.70267\n",
      "03/18/2025 02:41:14 PM Epoch: 3\n",
      "03/18/2025 02:41:14 PM  [LOSS] TRAIN 0.7129 / VALID 0.7067\n",
      "03/18/2025 02:41:14 PM  [ACC] TRAIN 51.78% / VALID 50.00%\n",
      "03/18/2025 02:41:27 PM Epoch: 4 // Batch 1/4 // loss = 0.72308\n",
      "03/18/2025 02:41:41 PM Epoch: 4 // Batch 2/4 // loss = 0.69040\n",
      "03/18/2025 02:41:53 PM Epoch: 4 // Batch 3/4 // loss = 0.71117\n",
      "03/18/2025 02:42:00 PM Epoch: 4 // Batch 4/4 // loss = 0.70760\n",
      "03/18/2025 02:42:17 PM Epoch: 4\n",
      "03/18/2025 02:42:17 PM  [LOSS] TRAIN 0.7284 / VALID 0.7413\n",
      "03/18/2025 02:42:17 PM  [ACC] TRAIN 48.00% / VALID 50.00%\n"
     ]
    }
   ],
   "source": [
    "from meegnet.network import Model\n",
    "from torch.nn import MSELoss\n",
    "\n",
    "save_path = dataset_dir\n",
    "net_option = \"eegnet\"\n",
    "input_size = dataset.data[0].shape\n",
    "n_outputs = 2 # Here we have 100 possible outputs as we have 1 label per subject and 100 subjects\n",
    "name = \"smt_meegnet\"\n",
    "\n",
    "net_params = {\"linear\": 100, \"hlayers\": 3, \"dropout\": .5}\n",
    "my_model = Model(name, net_option, input_size, n_outputs, save_path, net_params=net_params)\n",
    "\n",
    "print(my_model.net)\n",
    "\n",
    "my_model.train(dataset, patience=1)"
   ]
  },
  {
   "cell_type": "code",
   "execution_count": 5,
   "metadata": {},
   "outputs": [
    {
     "ename": "AttributeError",
     "evalue": "'list' object has no attribute 'squeeze'",
     "output_type": "error",
     "traceback": [
      "\u001b[0;31m---------------------------------------------------------------------------\u001b[0m",
      "\u001b[0;31mAttributeError\u001b[0m                            Traceback (most recent call last)",
      "Cell \u001b[0;32mIn[5], line 1\u001b[0m\n\u001b[0;32m----> 1\u001b[0m \u001b[43mmy_model\u001b[49m\u001b[38;5;241;43m.\u001b[39;49m\u001b[43mtracker\u001b[49m\u001b[38;5;241;43m.\u001b[39;49m\u001b[43mplot_loss\u001b[49m\u001b[43m(\u001b[49m\u001b[43m)\u001b[49m\n",
      "File \u001b[0;32m~/GitHub/cocolab/meegnet/meegnet/network.py:1116\u001b[0m, in \u001b[0;36mTrainingTracker.plot_loss\u001b[0;34m(self, option, early_stop)\u001b[0m\n\u001b[1;32m   1114\u001b[0m fig, ax \u001b[38;5;241m=\u001b[39m plt\u001b[38;5;241m.\u001b[39msubplots()\n\u001b[1;32m   1115\u001b[0m \u001b[38;5;28;01mif\u001b[39;00m option \u001b[38;5;129;01min\u001b[39;00m (\u001b[38;5;124m\"\u001b[39m\u001b[38;5;124mboth\u001b[39m\u001b[38;5;124m\"\u001b[39m, \u001b[38;5;124m\"\u001b[39m\u001b[38;5;124mtrain\u001b[39m\u001b[38;5;124m\"\u001b[39m):\n\u001b[0;32m-> 1116\u001b[0m     plt\u001b[38;5;241m.\u001b[39mplot(\u001b[38;5;28;43mself\u001b[39;49m\u001b[38;5;241;43m.\u001b[39;49m\u001b[43mprogress\u001b[49m\u001b[43m[\u001b[49m\u001b[38;5;124;43m\"\u001b[39;49m\u001b[38;5;124;43mtrain_losses\u001b[39;49m\u001b[38;5;124;43m\"\u001b[39;49m\u001b[43m]\u001b[49m\u001b[38;5;241;43m.\u001b[39;49m\u001b[43msqueeze\u001b[49m(), label\u001b[38;5;241m=\u001b[39m\u001b[38;5;124m\"\u001b[39m\u001b[38;5;124mTraining Loss\u001b[39m\u001b[38;5;124m\"\u001b[39m)\n\u001b[1;32m   1117\u001b[0m \u001b[38;5;28;01mif\u001b[39;00m option \u001b[38;5;129;01min\u001b[39;00m (\u001b[38;5;124m\"\u001b[39m\u001b[38;5;124mboth\u001b[39m\u001b[38;5;124m\"\u001b[39m, \u001b[38;5;124m\"\u001b[39m\u001b[38;5;124mvalid\u001b[39m\u001b[38;5;124m\"\u001b[39m):\n\u001b[1;32m   1118\u001b[0m     plt\u001b[38;5;241m.\u001b[39mplot(\u001b[38;5;28mself\u001b[39m\u001b[38;5;241m.\u001b[39mprogress[\u001b[38;5;124m\"\u001b[39m\u001b[38;5;124mvalidation_losses\u001b[39m\u001b[38;5;124m\"\u001b[39m]\u001b[38;5;241m.\u001b[39msqueeze(), label\u001b[38;5;241m=\u001b[39m\u001b[38;5;124m\"\u001b[39m\u001b[38;5;124mValidation Loss\u001b[39m\u001b[38;5;124m\"\u001b[39m)\n",
      "\u001b[0;31mAttributeError\u001b[0m: 'list' object has no attribute 'squeeze'"
     ]
    },
    {
     "data": {
      "image/png": "[encoded data removed]",
      "text/plain": [
       "<Figure size 640x480 with 1 Axes>"
      ]
     },
     "metadata": {},
     "output_type": "display_data"
    }
   ],
   "source": [
    "my_model.tracker.plot_loss()"
   ]
  },
  {
   "cell_type": "code",
   "execution_count": null,
   "metadata": {},
   "outputs": [],
   "source": []
  }
 ],
 "metadata": {
  "kernelspec": {
   "display_name": "saflow",
   "language": "python",
   "name": "python3"
  },
  "language_info": {
   "codemirror_mode": {
    "name": "ipython",
    "version": 3
   },
   "file_extension": ".py",
   "mimetype": "text/x-python",
   "name": "python",
   "nbconvert_exporter": "python",
   "pygments_lexer": "ipython3",
   "version": "3.11.5"
  }
 },
 "nbformat": 4,
 "nbformat_minor": 2
}
