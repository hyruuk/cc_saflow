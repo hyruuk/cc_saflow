{
 "cells": [
  {
   "cell_type": "code",
   "execution_count": 1,
   "metadata": {},
   "outputs": [
    {
     "name": "stderr",
     "output_type": "stream",
     "text": [
      "/tmp/ipykernel_75152/3321975988.py:2: DeprecationWarning: \n",
      "The `fooof` package is being deprecated and replaced by the `specparam` (spectral parameterization) package.\n",
      "This version of `fooof` (1.1) is fully functional, but will not be further updated.\n",
      "New projects are recommended to update to using `specparam` (see Changelog for details).\n",
      "  import fooof\n"
     ]
    }
   ],
   "source": [
    "import mne\n",
    "import fooof\n",
    "import numpy as np\n",
    "import os.path as op\n",
    "import pickle\n",
    "import saflow\n",
    "import saflow\n",
    "import os.path as op\n",
    "import pickle as pkl\n",
    "import numpy as np\n",
    "import pandas as pd\n",
    "import os\n",
    "import mne_bids\n",
    "import mne\n",
    "from sklearn.model_selection import permutation_test_score, LeaveOneGroupOut\n",
    "from sklearn.pipeline import Pipeline\n",
    "from sklearn.discriminant_analysis import LinearDiscriminantAnalysis\n",
    "from sklearn.preprocessing import StandardScaler\n",
    "from scipy import stats\n",
    "import matplotlib.pyplot as plt\n",
    "import fooof\n",
    "from statsmodels.stats.multitest import fdrcorrection\n",
    "import random\n",
    "from matplotlib.backends.backend_pdf import PdfPages\n",
    "from saflow.utils import create_fnames\n",
    "import os"
   ]
  },
  {
   "cell_type": "markdown",
   "metadata": {},
   "source": []
  },
  {
   "cell_type": "code",
   "execution_count": 15,
   "metadata": {},
   "outputs": [],
   "source": [
    "def select_data(magic_dict, feature_type='psd_corrected', trial_type=['correct_commission'], ignore_bads=True):\n",
    "    \n",
    "    return X, y, groups, VTC, task\n",
    "\n",
    "\n",
    "def select_trial(event_dict, trial_type=['correct_commission'], bad_how='any', inout_how='all', inout='INOUT_2575', verbose=False):\n",
    "    if bad_how is None or bad_how == 'ignore':\n",
    "        bad_epoch = False\n",
    "    elif bad_how == 'last':\n",
    "        bad_epoch = event_dict['bad_epoch']\n",
    "    elif bad_how == 'any':\n",
    "        bad_epoch = np.sum(event_dict['included_bad_epochs']) > 0\n",
    "\n",
    "    if str(event_dict[inout]) != 'nan':\n",
    "        if inout_how == 'all':\n",
    "            n_uniques = len(np.unique(event_dict['included_INOUT'])) == 1\n",
    "            unique_elements = np.unique(event_dict['included_INOUT'])\n",
    "            uniques_inout = any(element in ['IN', 'OUT'] for element in unique_elements)\n",
    "            retain_inout =  n_uniques & uniques_inout\n",
    "        elif inout_how == 'last':\n",
    "            retain_inout = event_dict[inout] in ['IN', 'OUT']\n",
    "    else:\n",
    "        retain_inout = False\n",
    "    retain_type = event_dict['task'] in trial_type\n",
    "    retain_epoch = retain_inout & retain_type & ~bad_epoch\n",
    "    if verbose:\n",
    "        print(f'Bad : {bad_epoch}, InOut : {retain_inout}, Type : {retain_type}, Retain : {retain_epoch}')\n",
    "    return retain_epoch\n",
    "\n",
    "\n",
    "def average_bands(psd, freq_bins, bands=saflow.FREQS):\n",
    "    band_power = []\n",
    "    for band in bands:\n",
    "        band_mask = np.logical_and(freq_bins >= band[0], freq_bins <= band[1])\n",
    "        band_power.append(np.mean(psd[band_mask]))\n",
    "    return np.array(band_power)"
   ]
  },
  {
   "cell_type": "code",
   "execution_count": 8,
   "metadata": {},
   "outputs": [
    {
     "name": "stdout",
     "output_type": "stream",
     "text": [
      "[]\n",
      "Adding trial 0 of run 03 of subject sub-04\n"
     ]
    },
    {
     "ename": "ZeroDivisionError",
     "evalue": "division by zero",
     "output_type": "error",
     "traceback": [
      "\u001b[0;31m---------------------------------------------------------------------------\u001b[0m",
      "\u001b[0;31mZeroDivisionError\u001b[0m                         Traceback (most recent call last)",
      "\u001b[1;32m/home/hyruuk/GitHub/cocolab/cc_saflow/notebooks/NBX_averaged_fooofs.ipynb Cell 4\u001b[0m line \u001b[0;36m2\n\u001b[1;32m     <a href='vscode-notebook-cell:/home/hyruuk/GitHub/cocolab/cc_saflow/notebooks/NBX_averaged_fooofs.ipynb#W3sZmlsZQ%3D%3D?line=21'>22</a>\u001b[0m psd_raw \u001b[39m=\u001b[39m data[\u001b[39m'\u001b[39m\u001b[39mtrial_fooofs\u001b[39m\u001b[39m'\u001b[39m][trial_idx]\u001b[39m.\u001b[39mget_fooof(chan_idx)\u001b[39m.\u001b[39mpower_spectrum\n\u001b[1;32m     <a href='vscode-notebook-cell:/home/hyruuk/GitHub/cocolab/cc_saflow/notebooks/NBX_averaged_fooofs.ipynb#W3sZmlsZQ%3D%3D?line=22'>23</a>\u001b[0m freq_bins \u001b[39m=\u001b[39m data[\u001b[39m'\u001b[39m\u001b[39mtrial_fooofs\u001b[39m\u001b[39m'\u001b[39m][trial_idx]\u001b[39m.\u001b[39mget_fooof(chan_idx)\u001b[39m.\u001b[39mfreqs\n\u001b[0;32m---> <a href='vscode-notebook-cell:/home/hyruuk/GitHub/cocolab/cc_saflow/notebooks/NBX_averaged_fooofs.ipynb#W3sZmlsZQ%3D%3D?line=23'>24</a>\u001b[0m \u001b[39m0\u001b[39;49m\u001b[39m/\u001b[39;49m\u001b[39m0\u001b[39;49m\n\u001b[1;32m     <a href='vscode-notebook-cell:/home/hyruuk/GitHub/cocolab/cc_saflow/notebooks/NBX_averaged_fooofs.ipynb#W3sZmlsZQ%3D%3D?line=24'>25</a>\u001b[0m \u001b[39mif\u001b[39;00m INOUT \u001b[39m==\u001b[39m \u001b[39m'\u001b[39m\u001b[39mIN\u001b[39m\u001b[39m'\u001b[39m:\n\u001b[1;32m     <a href='vscode-notebook-cell:/home/hyruuk/GitHub/cocolab/cc_saflow/notebooks/NBX_averaged_fooofs.ipynb#W3sZmlsZQ%3D%3D?line=25'>26</a>\u001b[0m     psd_corrected \u001b[39m=\u001b[39m data[\u001b[39m'\u001b[39m\u001b[39mtrial_fooofs\u001b[39m\u001b[39m'\u001b[39m][trial_idx]\u001b[39m.\u001b[39mget_fooof(chan_idx)\u001b[39m.\u001b[39mpower_spectrum \u001b[39m-\u001b[39m data[\u001b[39m'\u001b[39m\u001b[39mIN_fooofs\u001b[39m\u001b[39m'\u001b[39m]\u001b[39m.\u001b[39mget_fooof(chan_idx)\u001b[39m.\u001b[39m_ap_fit\n",
      "\u001b[0;31mZeroDivisionError\u001b[0m: division by zero"
     ]
    }
   ],
   "source": []
  },
  {
   "cell_type": "code",
   "execution_count": 9,
   "metadata": {},
   "outputs": [
    {
     "name": "stdout",
     "output_type": "stream",
     "text": [
      "sub-04_task-gradCPT_meg.pkl\n",
      "sub-04_task-gradCPT_run-02_meg.pkl\n",
      "sub-04_task-gradCPT_run-02_meg_magic.pkl\n",
      "(101,)\n"
     ]
    },
    {
     "ename": "ZeroDivisionError",
     "evalue": "division by zero",
     "output_type": "error",
     "traceback": [
      "\u001b[0;31m---------------------------------------------------------------------------\u001b[0m",
      "\u001b[0;31mZeroDivisionError\u001b[0m                         Traceback (most recent call last)",
      "\u001b[1;32m/home/hyruuk/GitHub/cocolab/cc_saflow/notebooks/NBX_averaged_fooofs.ipynb Cell 5\u001b[0m line \u001b[0;36m3\n\u001b[1;32m     <a href='vscode-notebook-cell:/home/hyruuk/GitHub/cocolab/cc_saflow/notebooks/NBX_averaged_fooofs.ipynb#W4sZmlsZQ%3D%3D?line=29'>30</a>\u001b[0m \u001b[39m#freq_bins = data_reshaped[trial_idx][chan_idx]['freq_bins']\u001b[39;00m\n\u001b[1;32m     <a href='vscode-notebook-cell:/home/hyruuk/GitHub/cocolab/cc_saflow/notebooks/NBX_averaged_fooofs.ipynb#W4sZmlsZQ%3D%3D?line=30'>31</a>\u001b[0m \u001b[39mprint\u001b[39m(psd\u001b[39m.\u001b[39mshape)\n\u001b[0;32m---> <a href='vscode-notebook-cell:/home/hyruuk/GitHub/cocolab/cc_saflow/notebooks/NBX_averaged_fooofs.ipynb#W4sZmlsZQ%3D%3D?line=31'>32</a>\u001b[0m \u001b[39m0\u001b[39;49m\u001b[39m/\u001b[39;49m\u001b[39m0\u001b[39;49m\n",
      "\u001b[0;31mZeroDivisionError\u001b[0m: division by zero"
     ]
    }
   ],
   "source": [
    "feature = 'fooof'\n",
    "feature_fpath = op.join(saflow.BIDS_PATH, 'derivatives', feature)\n",
    "\n",
    "feat_to_get = 'psd_corrected'\n",
    "trial_type_to_get = ['correct_commission']\n",
    "\n",
    "X = []\n",
    "y = []\n",
    "groups = []\n",
    "VTC = []\n",
    "task = []\n",
    "for sub in sorted(os.listdir(feature_fpath)):\n",
    "    for file in sorted(os.listdir(op.join(feature_fpath, sub, 'meg'))):\n",
    "        print(file)\n",
    "        if 'magic' in file:\n",
    "            fname = op.join(feature_fpath, sub, 'meg', file)\n",
    "            fname_output = fname.replace('.pkl', '_magic.pkl')\n",
    "            with open(fname, 'rb') as f:\n",
    "                data = pickle.load(f)\n",
    "            # Reshape data\n",
    "            n_chans = 270\n",
    "            n_trials = int(len(data)/n_chans)\n",
    "            data_reshaped = np.array(data).reshape(n_trials, n_chans)\n",
    "\n",
    "            for trial_idx in range(data_reshaped.shape[0]):\n",
    "                epoch_selected = select_trial(data_reshaped[trial_idx][0]['info'], trial_type=trial_type_to_get)\n",
    "                if epoch_selected:\n",
    "                    for chan_idx in range(data_reshaped.shape[1]):\n",
    "                        psd = data_reshaped[trial_idx][chan_idx][feat_to_get]\n",
    "                        #freq_bins = data_reshaped[trial_idx][chan_idx]['freq_bins']\n",
    "                        print(psd.shape)\n",
    "                        0/0\n",
    "            "
   ]
  },
  {
   "cell_type": "code",
   "execution_count": 14,
   "metadata": {},
   "outputs": [
    {
     "data": {
      "text/plain": [
       "(8,)"
      ]
     },
     "execution_count": 14,
     "metadata": {},
     "output_type": "execute_result"
    }
   ],
   "source": [
    "\n",
    "band_power = average_bands(psd, freq_bins)\n",
    "band_power.shape"
   ]
  },
  {
   "cell_type": "code",
   "execution_count": 37,
   "metadata": {},
   "outputs": [],
   "source": []
  },
  {
   "cell_type": "code",
   "execution_count": 38,
   "metadata": {},
   "outputs": [
    {
     "name": "stdout",
     "output_type": "stream",
     "text": [
      "{'event_idx': 19, 't0_sample': 7685, 'VTC': 1.4243404892351406, 'task': 'correct_commission', 'RT': 0.8624374108221673, 'INOUT': 'OUT', 'INOUT_2575': 'OUT', 'INOUT_1090': nan, 'bad_epoch': True, 'included_bad_epochs': array([False, False, False, False, False,  True,  True,  True]), 'included_events_idx': [1, 3, 6, 8, 11, 14, 17, 19], 'included_VTC': array([2.69773833, 1.07826667, 0.74077676, 1.36547468, 0.75137772,\n",
      "       0.4781026 , 0.40111338, 1.42434049]), 'included_task': array(['correct_commission', 'correct_commission', 'correct_commission',\n",
      "       'correct_commission', 'correct_commission', 'correct_commission',\n",
      "       'correct_commission', 'correct_commission'], dtype=object), 'included_RT': array([1.06108916, 0.80844944, 0.75580056, 0.85325427, 0.75745433,\n",
      "       0.71482305, 0.70281263, 0.86243741]), 'included_INOUT': array(['OUT', 'OUT', 'OUT', 'OUT', 'OUT', 'OUT', 'OUT', 'OUT'],\n",
      "      dtype=object), 'included_INOUT_2575': array([nan, nan, nan, 'OUT', 'OUT', 'OUT', 'OUT', 'OUT'], dtype=object), 'included_INOUT_1090': array([nan, nan, nan, nan, nan, nan, nan, nan], dtype=object)}\n"
     ]
    },
    {
     "data": {
      "text/plain": [
       "False"
      ]
     },
     "execution_count": 38,
     "metadata": {},
     "output_type": "execute_result"
    }
   ],
   "source": [
    "event_dict = data_reshaped[0][0]['info']\n",
    "inout='INOUT_2575'\n",
    "print(event_dict)\n",
    "select_trial(event_dict, inout = 'INOUT_2575')"
   ]
  },
  {
   "cell_type": "code",
   "execution_count": 16,
   "metadata": {},
   "outputs": [
    {
     "data": {
      "text/plain": [
       "array([nan, nan, nan, 'OUT', 'OUT', 'OUT', 'OUT', 'OUT'], dtype=object)"
      ]
     },
     "execution_count": 16,
     "metadata": {},
     "output_type": "execute_result"
    }
   ],
   "source": []
  },
  {
   "cell_type": "code",
   "execution_count": 79,
   "metadata": {},
   "outputs": [
    {
     "ename": "NameError",
     "evalue": "name 'inout_how' is not defined",
     "output_type": "error",
     "traceback": [
      "\u001b[0;31m---------------------------------------------------------------------------\u001b[0m",
      "\u001b[0;31mNameError\u001b[0m                                 Traceback (most recent call last)",
      "\u001b[1;32m/home/hyruuk/GitHub/cocolab/cc_saflow/notebooks/NBX_averaged_fooofs.ipynb Cell 10\u001b[0m line \u001b[0;36m1\n\u001b[0;32m----> <a href='vscode-notebook-cell:/home/hyruuk/GitHub/cocolab/cc_saflow/notebooks/NBX_averaged_fooofs.ipynb#X16sZmlsZQ%3D%3D?line=0'>1</a>\u001b[0m inout_how \u001b[39m==\u001b[39m \u001b[39m'\u001b[39m\u001b[39mall\u001b[39m\u001b[39m'\u001b[39m\n",
      "\u001b[0;31mNameError\u001b[0m: name 'inout_how' is not defined"
     ]
    }
   ],
   "source": []
  },
  {
   "cell_type": "code",
   "execution_count": 50,
   "metadata": {},
   "outputs": [
    {
     "ename": "TypeError",
     "evalue": "ufunc 'bitwise_and' not supported for the input types, and the inputs could not be safely coerced to any supported types according to the casting rule ''safe''",
     "output_type": "error",
     "traceback": [
      "\u001b[0;31m---------------------------------------------------------------------------\u001b[0m",
      "\u001b[0;31mTypeError\u001b[0m                                 Traceback (most recent call last)",
      "\u001b[1;32m/home/hyruuk/GitHub/cocolab/cc_saflow/notebooks/NBX_averaged_fooofs.ipynb Cell 11\u001b[0m line \u001b[0;36m1\n\u001b[0;32m----> <a href='vscode-notebook-cell:/home/hyruuk/GitHub/cocolab/cc_saflow/notebooks/NBX_averaged_fooofs.ipynb#X20sZmlsZQ%3D%3D?line=0'>1</a>\u001b[0m \u001b[39mlen\u001b[39m(np\u001b[39m.\u001b[39munique(event_dict[inout])) \u001b[39m==\u001b[39m \u001b[39m1\u001b[39;49m \u001b[39m&\u001b[39;49m np\u001b[39m.\u001b[39;49munique(event_dict[inout]) \u001b[39min\u001b[39;00m [\u001b[39m'\u001b[39m\u001b[39mIN\u001b[39m\u001b[39m'\u001b[39m, \u001b[39m'\u001b[39m\u001b[39mOUT\u001b[39m\u001b[39m'\u001b[39m]\n",
      "\u001b[0;31mTypeError\u001b[0m: ufunc 'bitwise_and' not supported for the input types, and the inputs could not be safely coerced to any supported types according to the casting rule ''safe''"
     ]
    }
   ],
   "source": [
    "len(np.unique(event_dict[inout])) == 1 & np.unique(event_dict[inout]) in ['IN', 'OUT']"
   ]
  },
  {
   "cell_type": "code",
   "execution_count": 48,
   "metadata": {},
   "outputs": [
    {
     "data": {
      "text/plain": [
       "True"
      ]
     },
     "execution_count": 48,
     "metadata": {},
     "output_type": "execute_result"
    }
   ],
   "source": [
    "np.unique(event_dict[inout]) in ['IN', 'OUT']"
   ]
  },
  {
   "cell_type": "markdown",
   "metadata": {},
   "source": [
    "# Deprec"
   ]
  },
  {
   "cell_type": "code",
   "execution_count": null,
   "metadata": {},
   "outputs": [],
   "source": [
    "# Create Magic dict\n",
    "\n",
    "feature = 'fooof'\n",
    "feature_fpath = op.join(saflow.BIDS_PATH, 'derivatives', feature)\n",
    "\n",
    "\n",
    "for sub in sorted(os.listdir(feature_fpath)):\n",
    "    for run in saflow.BLOCS_LIST:\n",
    "        run = '0' + str(run)\n",
    "        fname = op.join(feature_fpath, sub, 'meg', f'{sub}_task-gradCPT_run-{run}_meg.pkl')\n",
    "        fname_output = fname.replace('.pkl', '_magic.pkl')\n",
    "        if not op.exists(fname_output):\n",
    "            magic_dict = []\n",
    "            with open(fname, 'rb') as f:\n",
    "                data = pickle.load(f)\n",
    "            print(magic_dict)\n",
    "            for trial_idx in range(len(data['trial_fooofs'])):\n",
    "\n",
    "                INOUT = data['info'][trial_idx]['INOUT']\n",
    "                print(f'Adding trial {trial_idx} of run {run} of subject {sub}')\n",
    "                for chan_idx in range(len(data['trial_fooofs'][trial_idx])):\n",
    "                    psd_raw = data['trial_fooofs'][trial_idx].get_fooof(chan_idx).power_spectrum\n",
    "                    freq_bins = data['trial_fooofs'][trial_idx].get_fooof(chan_idx).freqs\n",
    "                    0/0\n",
    "                    if INOUT == 'IN':\n",
    "                        psd_corrected = data['trial_fooofs'][trial_idx].get_fooof(chan_idx).power_spectrum - data['IN_fooofs'].get_fooof(chan_idx)._ap_fit\n",
    "                    elif INOUT == 'OUT':\n",
    "                        psd_corrected = data['trial_fooofs'][trial_idx].get_fooof(chan_idx).power_spectrum - data['OUT_fooofs'].get_fooof(chan_idx)._ap_fit\n",
    "\n",
    "                    psd_model_fit = data['trial_fooofs'][trial_idx].get_fooof(chan_idx).fooofed_spectrum_\n",
    "                    exponent = data['trial_fooofs'][trial_idx].get_fooof(chan_idx).aperiodic_params_[-1]\n",
    "                    offset = data['trial_fooofs'][trial_idx].get_fooof(chan_idx).aperiodic_params_[0]\n",
    "                    knee = data['trial_fooofs'][trial_idx].get_fooof(chan_idx).aperiodic_params_[1]\n",
    "                    r_squared = data['trial_fooofs'][trial_idx].get_fooof(chan_idx).r_squared_\n",
    "                    \n",
    "                    data_dict = {'psd_raw': psd_raw, \n",
    "                                'psd_corrected': psd_corrected, \n",
    "                                'psd_model_fit': psd_model_fit, \n",
    "                                'exponent': exponent, \n",
    "                                'offset': offset, \n",
    "                                'knee': knee, \n",
    "                                'r_squared': r_squared,\n",
    "                                'info': data['info'][trial_idx],\n",
    "                                'freq_bins': freq_bins}\n",
    "                    \n",
    "                    magic_dict.append(data_dict)\n",
    "            fname_output = fname.replace('.pkl', '_magic.pkl')\n",
    "            with open(fname_output, 'wb') as f:\n",
    "                pickle.dump(magic_dict, f)\n"
   ]
  },
  {
   "cell_type": "code",
   "execution_count": 24,
   "metadata": {},
   "outputs": [],
   "source": [
    "output_fname = op.join('/home/hyruuk/GitHub/cocolab/cc_saflow/tmp/', 'subject_averaged_fooofs.pkl')\n",
    "with open(output_fname, 'rb') as f:\n",
    "    fooof_array = pickle.load(f)"
   ]
  },
  {
   "cell_type": "code",
   "execution_count": 25,
   "metadata": {},
   "outputs": [],
   "source": [
    "def average_bands_from_bands(fm, freqs=saflow.FREQS):\n",
    "    fooof_freqs = fm.freqs\n",
    "    original_bands = []\n",
    "    fooof_bands = []\n",
    "    original_corrected = []\n",
    "    for band in freqs:\n",
    "        freq_mask = np.where((fooof_freqs >= band[0]) & (fooof_freqs <= band[1]))[0]\n",
    "        original = np.mean(fm.power_spectrum[freq_mask])\n",
    "        original_bands.append(original)\n",
    "\n",
    "        fooof = np.mean(fm.fooofed_spectrum_[freq_mask])\n",
    "        fooof_bands.append(fooof)\n",
    "\n",
    "        corrected = fm.power_spectrum - fm._ap_fit\n",
    "        original_corrected.append(np.mean(corrected[freq_mask]))\n",
    "    \n",
    "    exponent = fm.get_params('aperiodic_params', 'exponent')\n",
    "    offset = fm.get_params('aperiodic_params', 'offset')\n",
    "    r_squared = fm.get_params('r_squared')\n",
    "    return original_bands, fooof_bands, original_corrected, exponent, offset, r_squared\n",
    "\n",
    "def get_data_matrix(fooof_array):\n",
    "    original_bands_array = []\n",
    "    fooof_bands_array = []\n",
    "    original_corrected_array = []\n",
    "    exponent_array = []\n",
    "    offset_array = []\n",
    "    r_squared_array = []\n",
    "\n",
    "    for cond_idx in range(fooof_array.shape[0]):\n",
    "        original_bands_subj = []\n",
    "        fooof_bands_subj = []\n",
    "        original_corrected_subj = []\n",
    "        exponent_subj = []\n",
    "        offset_subj = []\n",
    "        r_squared_subj = []\n",
    "        for subj_idx in range(fooof_array.shape[1]):\n",
    "            original_bands_chans = []\n",
    "            fooof_bands_chans = []\n",
    "            original_corrected_chans = []\n",
    "            exponent_chans = []\n",
    "            offset_chans = []\n",
    "            r_squared_chans = []\n",
    "            for chan_idx in range(fooof_array.shape[2]):\n",
    "                fm = fooof_array[cond_idx, subj_idx, chan_idx]\n",
    "                original_bands, fooof_bands, original_corrected, exponent, offset, r_squared = average_bands_from_bands(fm)\n",
    "                original_bands_chans.append(original_bands)\n",
    "                fooof_bands_chans.append(fooof_bands)\n",
    "                original_corrected_chans.append(original_corrected)\n",
    "                exponent_chans.append(exponent)\n",
    "                offset_chans.append(offset)\n",
    "                r_squared_chans.append(r_squared)\n",
    "            original_bands_subj.append(original_bands_chans)\n",
    "            fooof_bands_subj.append(fooof_bands_chans)\n",
    "            original_corrected_subj.append(original_corrected_chans)\n",
    "            exponent_subj.append(exponent_chans)\n",
    "            offset_subj.append(offset_chans)\n",
    "            r_squared_subj.append(r_squared_chans)\n",
    "        original_bands_array.append(original_bands_subj)\n",
    "        fooof_bands_array.append(fooof_bands_subj)\n",
    "        original_corrected_array.append(original_corrected_subj)\n",
    "        exponent_array.append(exponent_subj)\n",
    "        offset_array.append(offset_subj)\n",
    "        r_squared_array.append(r_squared_subj)\n",
    "\n",
    "        data = {'original_bands': np.array(original_bands_array),\n",
    "                'fooof_bands': np.array(fooof_bands_array),\n",
    "                'original_corrected': np.array(original_corrected_array),\n",
    "                'exponent': np.array(exponent_array),\n",
    "                'offset': np.array(offset_array),\n",
    "                'r_squared': np.array(r_squared_array)}\n",
    "    return data\n",
    "\n",
    "data = get_data_matrix(fooof_array)"
   ]
  },
  {
   "cell_type": "code",
   "execution_count": 26,
   "metadata": {},
   "outputs": [
    {
     "data": {
      "text/plain": [
       "(2, 32, 270, 8)"
      ]
     },
     "execution_count": 26,
     "metadata": {},
     "output_type": "execute_result"
    }
   ],
   "source": [
    "data['original_bands'].shape"
   ]
  },
  {
   "cell_type": "code",
   "execution_count": 27,
   "metadata": {},
   "outputs": [],
   "source": [
    "def format_data_for_classif(data, feature='original_bands'):\n",
    "    X = []\n",
    "    y = []\n",
    "    groups = []\n",
    "    for cond_idx in range(data[feature].shape[0]):\n",
    "        for subj_idx in range(data[feature].shape[1]):\n",
    "            X.append(data[feature][cond_idx, subj_idx])\n",
    "            y.append(cond_idx)\n",
    "            groups.append(subj_idx)\n",
    "    X = np.array(X).transpose(2, 0, 1)\n",
    "    y = np.array(y)\n",
    "    groups = np.array(groups)\n",
    "    return X, y, groups\n",
    "\n",
    "X, y, groups = format_data_for_classif(data, feature='original_bands')"
   ]
  },
  {
   "cell_type": "code",
   "execution_count": 30,
   "metadata": {},
   "outputs": [
    {
     "ename": "NameError",
     "evalue": "name 'y_avg' is not defined",
     "output_type": "error",
     "traceback": [
      "\u001b[0;31m---------------------------------------------------------------------------\u001b[0m",
      "\u001b[0;31mNameError\u001b[0m                                 Traceback (most recent call last)",
      "\u001b[1;32m/home/hyruuk/GitHub/cocolab/cc_saflow/notebooks/NBX_averaged_fooofs.ipynb Cell 6\u001b[0m line \u001b[0;36m1\n\u001b[0;32m----> <a href='vscode-notebook-cell:/home/hyruuk/GitHub/cocolab/cc_saflow/notebooks/NBX_averaged_fooofs.ipynb#W5sZmlsZQ%3D%3D?line=0'>1</a>\u001b[0m X_contrast, tvals, pvals \u001b[39m=\u001b[39m simple_contrast(X, y, groups)\n",
      "\u001b[1;32m/home/hyruuk/GitHub/cocolab/cc_saflow/notebooks/NBX_averaged_fooofs.ipynb Cell 6\u001b[0m line \u001b[0;36m6\n\u001b[1;32m      <a href='vscode-notebook-cell:/home/hyruuk/GitHub/cocolab/cc_saflow/notebooks/NBX_averaged_fooofs.ipynb#W5sZmlsZQ%3D%3D?line=3'>4</a>\u001b[0m \u001b[39m# Average each condition separately\u001b[39;00m\n\u001b[1;32m      <a href='vscode-notebook-cell:/home/hyruuk/GitHub/cocolab/cc_saflow/notebooks/NBX_averaged_fooofs.ipynb#W5sZmlsZQ%3D%3D?line=4'>5</a>\u001b[0m X_avg_by_cond \u001b[39m=\u001b[39m []\n\u001b[0;32m----> <a href='vscode-notebook-cell:/home/hyruuk/GitHub/cocolab/cc_saflow/notebooks/NBX_averaged_fooofs.ipynb#W5sZmlsZQ%3D%3D?line=5'>6</a>\u001b[0m \u001b[39mfor\u001b[39;00m cond \u001b[39min\u001b[39;00m np\u001b[39m.\u001b[39munique(y_avg):\n\u001b[1;32m      <a href='vscode-notebook-cell:/home/hyruuk/GitHub/cocolab/cc_saflow/notebooks/NBX_averaged_fooofs.ipynb#W5sZmlsZQ%3D%3D?line=6'>7</a>\u001b[0m     X_avg_by_cond\u001b[39m.\u001b[39mappend(np\u001b[39m.\u001b[39mmean(X_avg[y_avg \u001b[39m==\u001b[39m cond], axis\u001b[39m=\u001b[39m\u001b[39m0\u001b[39m))\n\u001b[1;32m      <a href='vscode-notebook-cell:/home/hyruuk/GitHub/cocolab/cc_saflow/notebooks/NBX_averaged_fooofs.ipynb#W5sZmlsZQ%3D%3D?line=7'>8</a>\u001b[0m \u001b[39m# Compute normalized contrast (A - B)/B\u001b[39;00m\n",
      "\u001b[0;31mNameError\u001b[0m: name 'y_avg' is not defined"
     ]
    }
   ],
   "source": [
    "X_contrast, tvals, pvals = simple_contrast(X, y, groups)\n"
   ]
  },
  {
   "cell_type": "code",
   "execution_count": 29,
   "metadata": {},
   "outputs": [],
   "source": [
    "def simple_contrast(X, y, groups):\n",
    "    \"\"\"Computes subject-averages and contrasts between conditions.\"\"\"\n",
    "    n_features = X.shape[0]\n",
    "    # Average each condition separately\n",
    "    X_avg_by_cond = []\n",
    "    for cond in np.unique(y):\n",
    "        X_avg_by_cond.append(np.mean(X[y == cond], axis=0))\n",
    "    # Compute normalized contrast (A - B)/B\n",
    "    X_contrast = (X_avg_by_cond[0] - X_avg_by_cond[1]) / X_avg_by_cond[1]\n",
    "    # Split conditions for ttest\n",
    "    X_condA = X[y == 0]\n",
    "    X_condB = X[y == 1]\n",
    "    \n",
    "    # Compute t-test\n",
    "    tvals = []\n",
    "    pvals = []\n",
    "    for feature_idx in range(n_features):\n",
    "        t, p = stats.ttest_rel(X_condA[:,feature_idx,:], X_condB[:,feature_idx,:], axis=0)\n",
    "        tvals.append(t)\n",
    "        pvals.append(p)\n",
    "    tvals = np.array(tvals)\n",
    "    pvals = np.array(pvals)\n",
    "    return X_contrast, tvals, pvals\n",
    "\n",
    "\n",
    "def singlefeat_classif(clf, cv, X, y, groups, n_perms=1):\n",
    "    clf = LinearDiscriminantAnalysis()\n",
    "    cv = LeaveOneGroupOut()\n",
    "\n",
    "    all_scores, all_perm_scores, all_pvals = [], [], []\n",
    "    for freq_idx in range(X.shape[0]):\n",
    "        scores, perm_scores, pvals = [], [], []\n",
    "        for chan_idx in range(X.shape[-1]):\n",
    "            X_sf = X[freq_idx,:,chan_idx]\n",
    "            score, permutation_scores, pvalue = permutation_test_score(clf, X=X_sf.reshape(-1, 1), y=y, groups=groups, cv=cv, n_permutations=n_perms, n_jobs=-1)\n",
    "            scores.append(score)\n",
    "            perm_scores.append(permutation_scores)\n",
    "            pvals.append(pvalue)\n",
    "            print(f'Computed feature {freq_idx} chan {chan_idx} Score {score}, pvalue {pvalue}')\n",
    "        all_scores.append(scores)\n",
    "        all_perm_scores.append(perm_scores)\n",
    "        all_pvals.append(pvals)\n",
    "        \n",
    "    all_scores = np.array(all_scores)\n",
    "    all_perm_scores = np.array(all_perm_scores)\n",
    "    all_pvals = np.array(all_pvals)\n",
    "    all_results = {'scores': all_scores, 'perm_scores': all_perm_scores, 'pvals': all_pvals}\n",
    "    return all_results"
   ]
  },
  {
   "cell_type": "code",
   "execution_count": null,
   "metadata": {},
   "outputs": [],
   "source": []
  }
 ],
 "metadata": {
  "kernelspec": {
   "display_name": "saflow",
   "language": "python",
   "name": "python3"
  },
  "language_info": {
   "codemirror_mode": {
    "name": "ipython",
    "version": 3
   },
   "file_extension": ".py",
   "mimetype": "text/x-python",
   "name": "python",
   "nbconvert_exporter": "python",
   "pygments_lexer": "ipython3",
   "version": "3.8.0"
  }
 },
 "nbformat": 4,
 "nbformat_minor": 2
}
